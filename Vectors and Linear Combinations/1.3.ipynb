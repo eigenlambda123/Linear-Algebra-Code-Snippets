{
 "cells": [
  {
   "cell_type": "markdown",
   "id": "27f9ac00-c8da-4682-8e51-51f7d0071b79",
   "metadata": {},
   "source": [
    "## **Solve Ax = b (Only if Invertible)**"
   ]
  },
  {
   "cell_type": "code",
   "execution_count": 4,
   "id": "29ed0ab5-f8cc-4901-98a6-d506ef5cab63",
   "metadata": {},
   "outputs": [
    {
     "name": "stdout",
     "output_type": "stream",
     "text": [
      "Solution x = A⁻¹b: [1. 2.]\n"
     ]
    }
   ],
   "source": [
    "import numpy as np\n",
    "from numpy.linalg import inv\n",
    "\n",
    "# Define A and b\n",
    "A = np.array([[2, 5], [3, 7]])\n",
    "b = np.array([12, 17])\n",
    "\n",
    "# Solve Ax = b using inverse\n",
    "if A.shape[0] == A.shape[1] and np.linalg.det(A) != 0:\n",
    "    A_inv = inv(A)\n",
    "    x = A_inv @ b\n",
    "    print(\"Solution x = A⁻¹b:\", x)\n",
    "else:\n",
    "    print(\"A is not invertible. Cannot solve using inverse.\")\n"
   ]
  },
  {
   "cell_type": "markdown",
   "id": "49835c8a-67c0-41a2-9037-4d0db30c5138",
   "metadata": {},
   "source": [
    "## **Check if A is Invertible**"
   ]
  },
  {
   "cell_type": "code",
   "execution_count": 5,
   "id": "9c143954-3dd1-4245-aa66-31f0821d0c36",
   "metadata": {},
   "outputs": [
    {
     "name": "stdout",
     "output_type": "stream",
     "text": [
      "A is square and invertible.\n"
     ]
    }
   ],
   "source": [
    "from numpy.linalg import det\n",
    "\n",
    "# Define A\n",
    "A = np.array([[2, 5], [3, 7]])\n",
    "\n",
    "# Check if A is square and invertible\n",
    "if A.shape[0] == A.shape[1] and det(A) != 0:\n",
    "    print(\"A is square and invertible.\")\n",
    "else:\n",
    "    print(\"A is not invertible.\")\n"
   ]
  },
  {
   "cell_type": "markdown",
   "id": "e09c6168-15b8-42ae-a1d5-dc586a17c66d",
   "metadata": {},
   "source": [
    "## **Check Linear Independence of Columns**"
   ]
  },
  {
   "cell_type": "code",
   "execution_count": 3,
   "id": "8dfc9190-0b88-4282-a3c6-a7f312944382",
   "metadata": {},
   "outputs": [
    {
     "name": "stdout",
     "output_type": "stream",
     "text": [
      "Columns of A are linearly independent.\n"
     ]
    }
   ],
   "source": [
    "from numpy.linalg import matrix_rank\n",
    "\n",
    "# Define A\n",
    "A = np.array([[2, 5], [3, 7]])\n",
    "\n",
    "# Check column independence using rank\n",
    "rank = matrix_rank(A)\n",
    "if rank == A.shape[1]:\n",
    "    print(\"Columns of A are linearly independent.\")\n",
    "else:\n",
    "    print(\"Columns of A are linearly dependent.\")"
   ]
  },
  {
   "cell_type": "code",
   "execution_count": null,
   "id": "063cf434-526b-463d-8a35-f0455270959c",
   "metadata": {},
   "outputs": [],
   "source": []
  }
 ],
 "metadata": {
  "kernelspec": {
   "display_name": "Python 3 (ipykernel)",
   "language": "python",
   "name": "python3"
  },
  "language_info": {
   "codemirror_mode": {
    "name": "ipython",
    "version": 3
   },
   "file_extension": ".py",
   "mimetype": "text/x-python",
   "name": "python",
   "nbconvert_exporter": "python",
   "pygments_lexer": "ipython3",
   "version": "3.9.9"
  }
 },
 "nbformat": 4,
 "nbformat_minor": 5
}
