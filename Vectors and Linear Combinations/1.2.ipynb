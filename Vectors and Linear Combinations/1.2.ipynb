{
 "cells": [
  {
   "cell_type": "code",
   "execution_count": 6,
   "id": "80d2bcbb-3118-4e51-b1bb-aa48496539dc",
   "metadata": {},
   "outputs": [
    {
     "name": "stdout",
     "output_type": "stream",
     "text": [
      "Dot Product: 8\n"
     ]
    }
   ],
   "source": [
    "import numpy as np\n",
    "import math\n",
    "\n",
    "# Dot Product\n",
    "\n",
    "v = np.array([1, 2, 3])\n",
    "w = np.array([4, -1, 2])\n",
    "\n",
    "dot_product = np.dot(v, w)\n",
    "print(f'Dot Product: {dot_product}')"
   ]
  },
  {
   "cell_type": "code",
   "execution_count": 9,
   "id": "b0a105bf-5950-4090-8d46-a64cf9782685",
   "metadata": {},
   "outputs": [
    {
     "name": "stdout",
     "output_type": "stream",
     "text": [
      "Length ‖v‖ = 3.0\n"
     ]
    }
   ],
   "source": [
    "# Length and Unit Vector\n",
    "\n",
    "import numpy as np\n",
    "\n",
    "\n",
    "v = np.array([2, 2, 1])\n",
    "\n",
    "# length (magnitude)\n",
    "length = np.linalg.norm(v)\n",
    "print(f\"Length ‖v‖ = {length}\")\n"
   ]
  },
  {
   "cell_type": "code",
   "execution_count": 10,
   "id": "dddd5805-3e46-49bd-bd21-8e2a2f1b4b20",
   "metadata": {},
   "outputs": [
    {
     "name": "stdout",
     "output_type": "stream",
     "text": [
      "Unit vector (v̂): [0.66666667 0.66666667 0.33333333]\n"
     ]
    }
   ],
   "source": [
    "# unit vector (v̂ = v / ‖v‖)\n",
    "if length != 0:\n",
    "    unit_vector = v / length\n",
    "    print(f\"Unit vector (v̂): {unit_vector}\")\n",
    "else:\n",
    "    print(\"Cannot compute unit vector for a zero vector.\")"
   ]
  },
  {
   "cell_type": "code",
   "execution_count": null,
   "id": "7bcba698-3b56-4bb7-93b7-16cd379faa41",
   "metadata": {},
   "outputs": [],
   "source": []
  }
 ],
 "metadata": {
  "kernelspec": {
   "display_name": "Python 3 (ipykernel)",
   "language": "python",
   "name": "python3"
  },
  "language_info": {
   "codemirror_mode": {
    "name": "ipython",
    "version": 3
   },
   "file_extension": ".py",
   "mimetype": "text/x-python",
   "name": "python",
   "nbconvert_exporter": "python",
   "pygments_lexer": "ipython3",
   "version": "3.9.9"
  }
 },
 "nbformat": 4,
 "nbformat_minor": 5
}
