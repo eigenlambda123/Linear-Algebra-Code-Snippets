{
 "cells": [
  {
   "cell_type": "code",
   "execution_count": 1,
   "id": "55d15c76-f071-45db-952f-0bd75c2a734a",
   "metadata": {},
   "outputs": [
    {
     "name": "stdout",
     "output_type": "stream",
     "text": [
      "Vector Addition (v + w):\n",
      "[4 6]\n",
      "\n",
      "Scalar Multiplication (cv and dw):\n",
      "cv = [2 4]\n",
      "dw = [ 9 12]\n",
      "\n",
      "Linear Combination (cv + dw):\n",
      "[11 16]\n"
     ]
    }
   ],
   "source": [
    "import numpy as np\n",
    "\n",
    "v = np.array([1, 2])  # v = [v1, v2]\n",
    "w = np.array([3, 4])  # w = [w1, w2]\n",
    "\n",
    "# Scalar \n",
    "c = 2 \n",
    "d = 3  \n",
    "\n",
    "# VECTOR ADDITION\n",
    "vector_addition = v + w\n",
    "print(\"Vector Addition (v + w):\")\n",
    "print(vector_addition)\n",
    "\n",
    "# SCALAR MULTIPLICATION\n",
    "scalar_multiplication_v = c * v\n",
    "scalar_multiplication_w = d * w\n",
    "print(\"\\nScalar Multiplication (cv and dw):\")\n",
    "print(f\"cv = {scalar_multiplication_v}\")\n",
    "print(f\"dw = {scalar_multiplication_w}\")\n",
    "\n",
    "# LINEAR COMBINATION\n",
    "linear_combination = c * v + d * w\n",
    "print(\"\\nLinear Combination (cv + dw):\")\n",
    "print(linear_combination)\n"
   ]
  }
 ],
 "metadata": {
  "kernelspec": {
   "display_name": "Python 3 (ipykernel)",
   "language": "python",
   "name": "python3"
  },
  "language_info": {
   "codemirror_mode": {
    "name": "ipython",
    "version": 3
   },
   "file_extension": ".py",
   "mimetype": "text/x-python",
   "name": "python",
   "nbconvert_exporter": "python",
   "pygments_lexer": "ipython3",
   "version": "3.9.9"
  }
 },
 "nbformat": 4,
 "nbformat_minor": 5
}
